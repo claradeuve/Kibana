{
 "cells": [
  {
   "cell_type": "markdown",
   "id": "9b780fbd",
   "metadata": {},
   "source": [
    "Para todos los ejercicios comparto el mismo enlace porque he unido todos los pasos en un mismo dashboard: A partir de los datos de ejemplo, he generado todos los tipos de gráficos y los he incluido en un dashboard."
   ]
  },
  {
   "cell_type": "markdown",
   "id": "e7eb70dc",
   "metadata": {},
   "source": [
    "## Exercici 1\n",
    "Descarrega't Kibana i mostra algunes gràfiques utilitzant conjunts de dades d'Exemple"
   ]
  },
  {
   "cell_type": "markdown",
   "id": "ba35104a",
   "metadata": {},
   "source": [
    "http://localhost:5601/app/r/s/unimportant-flabby-nightfall"
   ]
  },
  {
   "cell_type": "markdown",
   "id": "7532c60b",
   "metadata": {},
   "source": [
    "## Exercici 2\n",
    "Implementa un dashboard que visualitzi interactivament les dades que triïs."
   ]
  },
  {
   "cell_type": "markdown",
   "id": "725b90a3",
   "metadata": {},
   "source": [
    "http://localhost:5601/app/r/s/unimportant-flabby-nightfall"
   ]
  },
  {
   "cell_type": "markdown",
   "id": "0d20e599",
   "metadata": {},
   "source": [
    "## Exercici 3\n",
    "Implementa un dashboard que generi gràfics utilitzant cadascun dels diferents tipus de gràfics que ofereix Kibana"
   ]
  },
  {
   "cell_type": "markdown",
   "id": "d898ed92",
   "metadata": {},
   "source": [
    "http://localhost:5601/app/r/s/unimportant-flabby-nightfall"
   ]
  }
 ],
 "metadata": {
  "kernelspec": {
   "display_name": "Python 3 (ipykernel)",
   "language": "python",
   "name": "python3"
  },
  "language_info": {
   "codemirror_mode": {
    "name": "ipython",
    "version": 3
   },
   "file_extension": ".py",
   "mimetype": "text/x-python",
   "name": "python",
   "nbconvert_exporter": "python",
   "pygments_lexer": "ipython3",
   "version": "3.9.7"
  }
 },
 "nbformat": 4,
 "nbformat_minor": 5
}
